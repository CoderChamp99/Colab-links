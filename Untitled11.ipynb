{
  "nbformat": 4,
  "nbformat_minor": 0,
  "metadata": {
    "colab": {
      "provenance": []
    },
    "kernelspec": {
      "name": "python3",
      "display_name": "Python 3"
    },
    "language_info": {
      "name": "python"
    }
  },
  "cells": [
    {
      "cell_type": "code",
      "source": [
        "\n"
      ],
      "metadata": {
        "id": "RKQL3E8HkGlc"
      },
      "execution_count": null,
      "outputs": []
    },
    {
      "cell_type": "code",
      "execution_count": null,
      "metadata": {
        "colab": {
          "base_uri": "https://localhost:8080/"
        },
        "id": "ZD91bf6Hjref",
        "outputId": "9b98bfa1-b6ad-4c3b-ad01-2e79085b5b93"
      },
      "outputs": [
        {
          "output_type": "stream",
          "name": "stdout",
          "text": [
            "Hi, my name is ChatBot\n",
            "What's your name?: tredthrfj\n",
            "Hello  tredthrfj\n",
            "What's your age?: 1234\n",
            "So, your age is  1234.0\n",
            "What's your favorite food?: gfcjfck\n",
            "So, your favorite food is:  gfcjfck\n"
          ]
        }
      ],
      "source": [
        "print(\"Hi, my name is ChatBot\")26\n",
        "\n",
        "name = input(\"What's your name?: \")\n",
        "if(name==\"\"):\n",
        "  print(\"Error:Please Enter Your'e Name!\")\n",
        "else:\n",
        "     print(\"Hello \",name)\n",
        "age = float(input(\"What's your age?: \"))\n",
        "if(age==\"\"):\n",
        "  print(\"Error:Please Enter Your'e Age!\")\n",
        "else:\n",
        "    print(\"So, your age is \",age)\n",
        "\n",
        "food = input(\"What's your favorite food?: \")\n",
        "if(food==\"\"):\n",
        "  print(\"Error:Please Enter Your'e Food!\")\n",
        "else:\n",
        "     print(\"So, your favorite food is: \",food)\n",
        "\n",
        "game = input(\"What's your favorite game?: \")\n",
        "if(game==\"\"):\n",
        "  print(\"Error:Please Enter Your'e Game!\")\n",
        "else:\n",
        "     print(\"So, your favorite game is: \",game)\n",
        "\n",
        "teacher= input(\"Who's your favorite teacher?: \")\n",
        "if(teacher==\"\"):\n",
        "  print(\"Error:Please Enter Your'e Favourite Teacher!\")\n",
        "else:\n",
        "    print(\"So, your favorite teacher is: \",teacher)\n",
        "\n",
        "subject = input(\"What's your favorite subject?: \")\n",
        "if(subject==\"\"):\n",
        "  print(\"Error:Please Enter Your'e Favourite Subject!\")\n",
        "else:\n",
        "    print(\"So, your favorite subject is: \",subject)\n",
        "\n",
        "hobby= input(\"What's your favorite hobby?: \")\n",
        "if(hobby==\" \" or \"\"):\n",
        "  print(\"Error:Please Enter Your'e Hobby!\")\n",
        "else:\n",
        "   print(\"So, your favorite hobby is: \",hobby)\n",
        "\n",
        "print(\"Bye!\")"
      ]
    }
  ]
}