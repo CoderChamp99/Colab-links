{
  "nbformat": 4,
  "nbformat_minor": 0,
  "metadata": {
    "colab": {
      "provenance": []
    },
    "kernelspec": {
      "name": "python3",
      "display_name": "Python 3"
    },
    "language_info": {
      "name": "python"
    }
  },
  "cells": [
    {
      "cell_type": "code",
      "source": [
        "\n"
      ],
      "metadata": {
        "id": "gPeYPpDjt_OT"
      },
      "execution_count": null,
      "outputs": []
    },
    {
      "cell_type": "code",
      "source": [],
      "metadata": {
        "id": "OFYGxAA_uPm9"
      },
      "execution_count": null,
      "outputs": []
    },
    {
      "cell_type": "code",
      "execution_count": 15,
      "metadata": {
        "colab": {
          "base_uri": "https://localhost:8080/"
        },
        "id": "ZD91bf6Hjref",
        "outputId": "000d0554-d966-4bbf-af52-280f641abf9f"
      },
      "outputs": [
        {
          "output_type": "stream",
          "name": "stdout",
          "text": [
            "ChatBot:Hi, my name is ChatBot\n",
            "ChatBot:What's your name?\n",
            "Ethan Emmanuel D'souza\n",
            "ChatBot:Hello Ethan Emmanuel D'souza\n",
            "ChatBot:What's your age?\n",
            "10\n",
            "ChatBot:So, your age is  10.0\n",
            "ChatBot:What's your favorite food?\n",
            "Golibaje\n",
            "ChatBot:So, your favorite food is\n",
            " Golibaje\n",
            "ChatBot:What's your favorite game?\n",
            "Idk\n",
            "So, your favorite game is: Idk\n",
            "Who's your favorite teacher?\n",
            "Asmah Mam\n",
            "ChatBot:So, your favorite teacher is:  Asmah Mam\n",
            "ChatBot:What's your favorite subject?\n",
            "Computer\n",
            "ChatBot:So, your favorite subject is Computer\n",
            "ChatBot:What's your favorite hobby?\n",
            "Coding\n",
            "ChatBot:So, your favorite hobby is: Coding\n",
            "Bye!\n"
          ]
        }
      ],
      "source": [
        "print(\"ChatBot:Hi, my name is ChatBot\")\n",
        "\n",
        "name = input(\"ChatBot:What's your name?\\n\")\n",
        "if(name==\"\"):\n",
        "  print(\"Error:Please Enter Your'e Name!\")\n",
        "else:\n",
        "     print(\"ChatBot:Hello\",name)\n",
        "age = float(input(\"ChatBot:What's your age?\\n\"))\n",
        "if(age==\"\"):\n",
        "  print(\"Error:Please Enter Your'e Age!\")\n",
        "else:\n",
        "    print(\"ChatBot:So, your age is \",age)\n",
        "\n",
        "food = input(\"ChatBot:What's your favorite food?\\n\")\n",
        "if(food==\"\"):\n",
        "  print(\"Error:Please Enter Your'e Food!\")\n",
        "else:\n",
        "     print(\"ChatBot:So, your favorite food is\\n\",food)\n",
        "\n",
        "game = input(\"ChatBot:What's your favorite game?\\n\")\n",
        "if(game==\"\"):\n",
        "  print(\"Error:Please Enter Your'e Game!\")\n",
        "else:\n",
        "     print(\"So, your favorite game is:\",game)\n",
        "\n",
        "teacher= input(\"Who's your favorite teacher?\\n\")\n",
        "if(teacher==\"\"):\n",
        "  print(\"Error:Please Enter Your'e Favourite Teacher!\")\n",
        "else:\n",
        "    print(\"ChatBot:So, your favorite teacher is: \",teacher)\n",
        "\n",
        "subject = input(\"ChatBot:What's your favorite subject?\\n\")\n",
        "if(subject==\"\"):\n",
        "  print(\"Error:Please Enter Your'e Favourite Subject!\")\n",
        "else:\n",
        "    print(\"ChatBot:So, your favorite subject is\",subject)\n",
        "\n",
        "hobby= input(\"ChatBot:What's your favorite hobby?\\n\")\n",
        "if(hobby==\"\"):\n",
        "  print(\"Error:Please Enter Your'e Hobby!\")\n",
        "else:\n",
        "   print(\"ChatBot:So, your favorite hobby is:\",hobby)\n",
        "\n",
        "print(\"Bye!\")"
      ]
    },
    {
      "cell_type": "code",
      "source": [
        ""
      ],
      "metadata": {
        "id": "pIcahQZ8xbqp"
      },
      "execution_count": null,
      "outputs": []
    }
  ]
}